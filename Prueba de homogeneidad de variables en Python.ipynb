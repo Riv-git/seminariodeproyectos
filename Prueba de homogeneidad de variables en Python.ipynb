{
 "cells": [
  {
   "cell_type": "markdown",
   "id": "2fb4e828",
   "metadata": {},
   "source": [
    "<h3 style=\"font-size:3rem ;color: orange; \">Prueba de homoceastidad Objetivos 1,2 y 3</h3>"
   ]
  },
  {
   "cell_type": "code",
   "execution_count": 1,
   "id": "2fda22f3",
   "metadata": {},
   "outputs": [
    {
     "data": {
      "text/plain": [
       "0.002431505967249681"
      ]
     },
     "execution_count": 1,
     "metadata": {},
     "output_type": "execute_result"
    }
   ],
   "source": []
  },
  {
   "cell_type": "code",
   "execution_count": 1,
   "id": "18e2781b",
   "metadata": {},
   "outputs": [
    {
     "data": {
      "text/plain": [
       "1.2114479387513741e-05"
      ]
     },
     "execution_count": 1,
     "metadata": {},
     "output_type": "execute_result"
    }
   ],
   "source": [
    "import numpy as np\n",
    "from scipy.stats import levene\n",
    "x = [90, 95, 104, 111, 128, 134, 142, 145]\n",
    "y = [12.86, 12.83, 12.81, 12.8, 12.8, 12.81, 12.81, 12.8]\n",
    "stat, p = levene(x, y)\n",
    "p"
   ]
  },
  {
   "cell_type": "code",
   "execution_count": 4,
   "id": "6a6c4702",
   "metadata": {},
   "outputs": [
    {
     "data": {
      "text/plain": [
       "0.0011136788128145072"
      ]
     },
     "execution_count": 4,
     "metadata": {},
     "output_type": "execute_result"
    }
   ],
   "source": [
    "import numpy as np\n",
    "from scipy.stats import levene\n",
    "x = [1.4, 1.59, 1.91, 2.14, 2.28, 2.48, 2.65, 2.82]\n",
    "y = [3.56, 3.56, 3.57, 3.57, 3.58, 3.58, 3.59, 3.59]\n",
    "stat, p = levene(x, y)\n",
    "p"
   ]
  },
  {
   "cell_type": "code",
   "execution_count": 6,
   "id": "fdd76bf6",
   "metadata": {},
   "outputs": [
    {
     "data": {
      "text/plain": [
       "0.001175596467311057"
      ]
     },
     "execution_count": 6,
     "metadata": {},
     "output_type": "execute_result"
    }
   ],
   "source": [
    "import numpy as np\n",
    "from scipy.stats import levene\n",
    "\n",
    "x = [1.4, 1.59, 1.91, 2.14, 2.28, 2.48, 2.65, 2.82]\n",
    "y = [3.95, 3.93, 3.91, 3.91, 3.92, 3.94, 3.94, 3.94]\n",
    "\n",
    "stat, p = levene(x, y)\n",
    "p\n"
   ]
  }
 ],
 "metadata": {
  "kernelspec": {
   "display_name": "Python 3 (ipykernel)",
   "language": "python",
   "name": "python3"
  },
  "language_info": {
   "codemirror_mode": {
    "name": "ipython",
    "version": 3
   },
   "file_extension": ".py",
   "mimetype": "text/x-python",
   "name": "python",
   "nbconvert_exporter": "python",
   "pygments_lexer": "ipython3",
   "version": "3.9.12"
  }
 },
 "nbformat": 4,
 "nbformat_minor": 5
}
