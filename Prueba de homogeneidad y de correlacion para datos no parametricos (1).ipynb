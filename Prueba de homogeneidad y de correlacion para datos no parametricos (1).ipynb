{
 "cells": [
  {
   "cell_type": "markdown",
   "id": "2fb4e828",
   "metadata": {},
   "source": [
    "<h3 style=\"font-size:3rem ;color: orange; \">Prueba de homoceastidad Objetivos 1,2 y 3</h3>"
   ]
  },
  {
   "cell_type": "code",
   "execution_count": 1,
   "id": "2fda22f3",
   "metadata": {},
   "outputs": [
    {
     "data": {
      "text/plain": [
       "0.002431505967249681"
      ]
     },
     "execution_count": 1,
     "metadata": {},
     "output_type": "execute_result"
    }
   ],
   "source": []
  },
  {
   "cell_type": "code",
   "execution_count": 1,
   "id": "18e2781b",
   "metadata": {},
   "outputs": [
    {
     "data": {
      "text/plain": [
       "1.2114479387513741e-05"
      ]
     },
     "execution_count": 1,
     "metadata": {},
     "output_type": "execute_result"
    }
   ],
   "source": [
    "import numpy as np\n",
    "from scipy.stats import levene\n",
    "x = [90, 95, 104, 111, 128, 134, 142, 145]\n",
    "y = [12.86, 12.83, 12.81, 12.8, 12.8, 12.81, 12.81, 12.8]\n",
    "stat, p = levene(x, y)\n",
    "p"
   ]
  },
  {
   "cell_type": "code",
   "execution_count": 4,
   "id": "6a6c4702",
   "metadata": {},
   "outputs": [
    {
     "data": {
      "text/plain": [
       "0.0011136788128145072"
      ]
     },
     "execution_count": 4,
     "metadata": {},
     "output_type": "execute_result"
    }
   ],
   "source": [
    "import numpy as np\n",
    "from scipy.stats import levene\n",
    "x = [1.4, 1.59, 1.91, 2.14, 2.28, 2.48, 2.65, 2.82]\n",
    "y = [3.56, 3.56, 3.57, 3.57, 3.58, 3.58, 3.59, 3.59]\n",
    "stat, p = levene(x, y)\n",
    "p"
   ]
  },
  {
   "cell_type": "code",
   "execution_count": 6,
   "id": "fdd76bf6",
   "metadata": {},
   "outputs": [
    {
     "data": {
      "text/plain": [
       "0.001175596467311057"
      ]
     },
     "execution_count": 6,
     "metadata": {},
     "output_type": "execute_result"
    }
   ],
   "source": [
    "import numpy as np\n",
    "from scipy.stats import levene\n",
    "\n",
    "x = [1.4, 1.59, 1.91, 2.14, 2.28, 2.48, 2.65, 2.82]\n",
    "y = [3.95, 3.93, 3.91, 3.91, 3.92, 3.94, 3.94, 3.94]\n",
    "\n",
    "stat, p = levene(x, y)\n",
    "p\n"
   ]
  },
  {
   "cell_type": "markdown",
   "id": "938a1c46",
   "metadata": {},
   "source": [
    "<h3 style=\"font-size:3rem ;color: orange; \">Prueba de Estadisticas Objetivos 1,2 y 3</h3>"
   ]
  },
  {
   "cell_type": "code",
   "execution_count": 54,
   "id": "7506c35d",
   "metadata": {},
   "outputs": [
    {
     "name": "stdout",
     "output_type": "stream",
     "text": [
      "\n",
      "Tabla de resultados: Población con trastornos de depresion y numero de usuarios en redes entre 2012-2019\n",
      "-------------------------------------------------------------------------------------------------\n",
      "| Prueba                                                 |Resultado                              |\n",
      "|--------------------------------------------------------|---------------------------------------|\n",
      "| Prueba de Levene                                       | No ✘                                  |\n",
      "| Prueba de Mann-Whitney                                 | Si ✔                                  |\n",
      "| Correlación de Spearman                                | Si ✔                                  |\n",
      "La prueba de Levene rechaza la hipótesis nula de igualdad de varianzas al nivel de significancia del 5%.\n",
      "valor prueba p:  1.2962610024272333e-05\n",
      "La prueba de Mann-Whitney no rechaza la hipótesis nula de igualdad de medias al nivel de significancia del 5%.\n",
      "valor prueba p:  0.5243108008991832\n",
      "La correlación de Spearman es significativa.\n",
      "valor de correlacion:  -0.6508140266182866\n"
     ]
    }
   ],
   "source": [
    "# Importar las bibliotecas necesarias\n",
    "import numpy as np\n",
    "from scipy.stats import levene, mannwhitneyu, spearmanr\n",
    "from IPython.display import display\n",
    "from colorama import init, Fore, Style\n",
    "\n",
    "\n",
    "# Datos 1\n",
    "data1 = np.array([9, 9.5, 10.4, 11.1, 12.8, 13.4, 14.2, 14.5])\n",
    "data2 = np.array([12.86, 12.83, 12.81, 12.8, 12.8, 12.81, 12.81, 12.8])\n",
    "# Datos 2\n",
    "#data1 = np.array([1.4, 1.59, 1.91, 2.14, 2.28, 2.48, 2.65, 2.82])\n",
    "#data2 = np.array([3.56, 3.56, 3.57, 3.57, 3.58, 3.58, 3.59, 3.59])\n",
    "# Datos 3\n",
    "#data1 = np.array([1.4, 1.59, 1.91, 2.14, 2.28, 2.48, 2.65, 2.82])\n",
    "#data2 = np.array([3.95, 3.93, 3.91, 3.91, 3.92, 3.94, 3.94, 3.94])\n",
    "\n",
    "\n",
    "# Realizar la prueba de Levene\n",
    "statistic, p_value = levene(data1, data2)\n",
    "if p_value < 0.05:\n",
    "    levene_result = \"No ✘\"\n",
    "else:\n",
    "    levene_result = \"Si ✔\"\n",
    "\n",
    "# Realizar la prueba de Mann-Whitney\n",
    "statistic, p_value = mannwhitneyu(data1, data2, alternative=\"two-sided\")\n",
    "if p_value < 0.05:\n",
    "    mannwhitney_result = \"No ✘\"\n",
    "else:\n",
    "    mannwhitney_result = \"Si ✔\"\n",
    "\n",
    "# Realizar la prueba de correlación de Spearman\n",
    "correlation, p_value = spearmanr(data1, data2)\n",
    "if  correlation > 0.4 or correlation < -0.4:\n",
    "    spearman_result = \"Si ✔\"\n",
    "else:\n",
    "    spearman_result = \"No ✘\"\n",
    "\n",
    "\n",
    "\n",
    "# Crear la tabla de resultados\n",
    "print(\"\\nTabla de resultados: Población con trastornos de depresion y numero de usuarios en redes entre 2012-2019\")\n",
    "print(\"-------------------------------------------------------------------------------------------------\")\n",
    "print(\"| Prueba                                                 |Resultado                              |\")\n",
    "print(\"|--------------------------------------------------------|---------------------------------------|\")\n",
    "print(f\"| Prueba de Levene                                       | {levene_result}                                  |\")\n",
    "print(f\"| Prueba de Mann-Whitney                                 | {mannwhitney_result}                                  |\")\n",
    "print(f\"| Correlación de Spearman                                | {spearman_result}                                  |\")\n",
    "\n",
    "\n",
    "\n",
    "\n",
    "# inicializar colorama\n",
    "init()\n",
    "\n",
    "# imprimir checkmark verde\n",
    "\n",
    "\n",
    "statistic, p_value = levene(data1, data2)\n",
    "if p_value < 0.05:\n",
    "    print(\"La prueba de Levene rechaza la hipótesis nula de igualdad de varianzas al nivel de significancia del 5%.\")\n",
    "    print(\"valor prueba p: \",p_value)\n",
    "else:\n",
    "    print(\"La prueba de Levene no rechaza la hipótesis nula de igualdad de varianzas al nivel de significancia del 5%. \")\n",
    "    print(\"valor prueba p: \",p_value)\n",
    "\n",
    "# Realizar la prueba de Mann-Whitney\n",
    "statistic, p_value = mannwhitneyu(data1, data2, alternative=\"two-sided\")\n",
    "if p_value < 0.05:\n",
    "    print(\"La prueba de Mann-Whitney rechaza la hipótesis nula de igualdad de medias al nivel de significancia del 5%.\")\n",
    "    print(\"valor prueba p: \",p_value)\n",
    "else:\n",
    "    print(\"La prueba de Mann-Whitney no rechaza la hipótesis nula de igualdad de medias al nivel de significancia del 5%.\")\n",
    "    print(\"valor prueba p: \",p_value)\n",
    "\n",
    "# Realizar la prueba de correlación de Spearman\n",
    "correlation, p_value = spearmanr(data1, data2)\n",
    "if  correlation > 0.4 or correlation < -0.4:\n",
    "    print(\"La correlación de Spearman es significativa.\")\n",
    "    print(\"valor de correlacion: \", correlation)\n",
    "else:\n",
    "    print(\"La correlación de Spearman no es significativa.\")\n",
    "    print(\"valor de correlacion: \",correlation)\n"
   ]
  },
  {
   "cell_type": "code",
   "execution_count": null,
   "id": "6dda7d6c",
   "metadata": {},
   "outputs": [],
   "source": []
  }
 ],
 "metadata": {
  "kernelspec": {
   "display_name": "Python 3 (ipykernel)",
   "language": "python",
   "name": "python3"
  },
  "language_info": {
   "codemirror_mode": {
    "name": "ipython",
    "version": 3
   },
   "file_extension": ".py",
   "mimetype": "text/x-python",
   "name": "python",
   "nbconvert_exporter": "python",
   "pygments_lexer": "ipython3",
   "version": "3.9.12"
  }
 },
 "nbformat": 4,
 "nbformat_minor": 5
}
